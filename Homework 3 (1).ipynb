{
 "cells": [
  {
   "cell_type": "markdown",
   "metadata": {},
   "source": [
    "# Homework 3"
   ]
  },
  {
   "cell_type": "markdown",
   "metadata": {},
   "source": [
    "In this homework you will have three theory and three practical questions. Make sure you type your answer in the markdown cells below the questions. For the practical questions, you can add your code in the code cells. "
   ]
  },
  {
   "cell_type": "markdown",
   "metadata": {},
   "source": [
    "**1. What is the difference between measures of central tendency and measures of spread?**"
   ]
  },
  {
   "cell_type": "markdown",
   "metadata": {},
   "source": [
    "Your answer:"
   ]
  },
  {
   "cell_type": "markdown",
   "metadata": {},
   "source": [
    "** 2. Is correlation the same as causation? Explain your answer**"
   ]
  },
  {
   "cell_type": "markdown",
   "metadata": {},
   "source": [
    "Your answer:"
   ]
  },
  {
   "cell_type": "markdown",
   "metadata": {},
   "source": [
    "**3. Why is \"joint probability distribution\" useful**"
   ]
  },
  {
   "cell_type": "markdown",
   "metadata": {},
   "source": [
    "Your answer:"
   ]
  },
  {
   "cell_type": "markdown",
   "metadata": {},
   "source": [
    "** Practical Question 1**\n",
    "\n",
    "Start by generating 10,000 random numbers following a Gaussian (normal) distribution. The mean should be 100 and the standard deviation equal to 15. Call this distribution _data_. \n",
    "After you have generated your data, verify that the _mean_ and the _standard deviation_ are correct and print them. Also, calculate the _median_ of your data and print it as well. \n",
    "**Don't forget to import the necessary Python packages!**"
   ]
  },
  {
   "cell_type": "code",
   "execution_count": null,
   "metadata": {
    "collapsed": true
   },
   "outputs": [],
   "source": [
    "#Import Python packages that you will use\n",
    "\n",
    "\n",
    "#Insert the code for your random variable here:\n",
    "\n",
    "data = \n",
    "# Calculate the mean\n",
    "mean = \n",
    "\n",
    "# Calculate the standard deviation\n",
    "stdv = \n",
    "\n",
    "#Calculate the median\n",
    "median = \n",
    "\n",
    "#Print the mean, standard deviation and median of your data\n",
    "print('Mean:', mean)\n",
    "\n",
    "print('Stdv:', stdv)\n",
    "\n",
    "print('Median:', median)\n",
    " "
   ]
  },
  {
   "cell_type": "markdown",
   "metadata": {},
   "source": [
    "**Practical Question 2**\n",
    "\n",
    "In this part, you should plot a histogram of your data from Practical Question 1. Make sure you format your plot by adding a title and axes labels.\n",
    "\n",
    "After you try it with the predefined settings of Python, find out how to change number of plotted bins in the histogram and create a second plot with 100 bins. **Which plot do you think looks better?**"
   ]
  },
  {
   "cell_type": "code",
   "execution_count": null,
   "metadata": {
    "collapsed": true
   },
   "outputs": [],
   "source": [
    "#Histogram plot of \"data\" (from Practical Question 1)"
   ]
  },
  {
   "cell_type": "code",
   "execution_count": null,
   "metadata": {
    "collapsed": true
   },
   "outputs": [],
   "source": [
    "#Histogram plot of \"data\". Set the number of bins equal to 100"
   ]
  },
  {
   "cell_type": "markdown",
   "metadata": {},
   "source": [
    "Which plot do you think looks better?\n",
    "Your answer:"
   ]
  },
  {
   "cell_type": "markdown",
   "metadata": {},
   "source": [
    "**Practical Question 3**\n",
    "\n",
    "Now it's time to generate a _scatter plot_. \n",
    "\n",
    "Start by generating an array of numbers between 1 and 500. You should name this array *x*.\n",
    "Generate a response variable named *y*. This variable should be equal to `y = 50 + 3*x + random number`. The random number should be normally distributed (mean = 0, standard deviation = 100 and total points = 500)."
   ]
  },
  {
   "cell_type": "code",
   "execution_count": null,
   "metadata": {
    "collapsed": true
   },
   "outputs": [],
   "source": [
    "# Generate x\n",
    "\n",
    "\n",
    "\n",
    "# Generate y\n",
    "\n",
    "\n",
    "\n",
    "#plot\n",
    "plt.scatter(x,y)\n",
    "\n",
    "#Format the graph - add a title and axes labels"
   ]
  }
 ],
 "metadata": {
  "kernelspec": {
   "display_name": "Python 3",
   "language": "python",
   "name": "python3"
  },
  "language_info": {
   "codemirror_mode": {
    "name": "ipython",
    "version": 3
   },
   "file_extension": ".py",
   "mimetype": "text/x-python",
   "name": "python",
   "nbconvert_exporter": "python",
   "pygments_lexer": "ipython3",
   "version": "3.6.0"
  }
 },
 "nbformat": 4,
 "nbformat_minor": 2
}
