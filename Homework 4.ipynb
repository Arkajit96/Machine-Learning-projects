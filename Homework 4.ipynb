{
 "cells": [
  {
   "cell_type": "markdown",
   "metadata": {},
   "source": [
    "# Homework 4"
   ]
  },
  {
   "cell_type": "markdown",
   "metadata": {},
   "source": [
    "This homework will allow you to start working with a larger dataset than in our class examples and extract useful information from it. Most of the questions will require you to write some code. There are a few questions that you will be able to answer after you run the code in previous cells. \n",
    "\n",
    "The dataset that we will be using is 'Movie-Ratings.csv'. This file is also available in CourseWeb. Please remember that to be able to load this file in your Jupyter notebook, you will need to save it in the same folder as the Jupyter notebook. There is no need to create a new notebook; you can just add your answers and run your code in this file. "
   ]
  },
  {
   "cell_type": "code",
   "execution_count": null,
   "metadata": {
    "collapsed": true,
    "deletable": true,
    "editable": true
   },
   "outputs": [],
   "source": [
    "# Import the necessary python packages"
   ]
  },
  {
   "cell_type": "code",
   "execution_count": null,
   "metadata": {
    "collapsed": true,
    "deletable": true,
    "editable": true
   },
   "outputs": [],
   "source": [
    "# Load the file 'Movie-Ratings.csv' and assign it to the variable 'movies'\n",
    "movies = \n",
    "print(movies)"
   ]
  },
  {
   "cell_type": "code",
   "execution_count": null,
   "metadata": {
    "collapsed": false,
    "deletable": true,
    "editable": true
   },
   "outputs": [],
   "source": [
    "# Print the statistical summary of the 'movies' dataframe\n"
   ]
  },
  {
   "cell_type": "markdown",
   "metadata": {
    "deletable": true,
    "editable": true
   },
   "source": [
    "Just by looking at the data description, can you tell if there are any missing values in any of the columns? How?\n",
    "\n",
    "\n",
    "Your answer:"
   ]
  },
  {
   "cell_type": "code",
   "execution_count": null,
   "metadata": {
    "collapsed": false,
    "deletable": true,
    "editable": true
   },
   "outputs": [],
   "source": [
    "# Use a Python function to check if there are missing data in your data frame 'movies'\n"
   ]
  },
  {
   "cell_type": "code",
   "execution_count": null,
   "metadata": {
    "collapsed": false,
    "deletable": true,
    "editable": true
   },
   "outputs": [],
   "source": [
    "# Create a new dataset named 'movies_cleaned' with the following conditions:\n",
    "# Set all the missing values (NaN) in the Ratings and Budget columns as zero. \n",
    "# The missing values in the Genre column should be set to 'Undefined\"\n",
    "# Hint: You can do this with one single line of code. Look at the 'Missing Data' jupyter notebook. \n",
    "\n",
    "movies_cleaned = \n",
    "print(movies_cleaned)"
   ]
  },
  {
   "cell_type": "code",
   "execution_count": null,
   "metadata": {
    "collapsed": false,
    "deletable": true,
    "editable": true
   },
   "outputs": [],
   "source": [
    "# Print the statistical summary of the movies_cleaned dataframe. \n",
    "# To check that you successfully replaced the NaN values, the count for all the columns should be the same (559.0)\n"
   ]
  },
  {
   "cell_type": "code",
   "execution_count": null,
   "metadata": {
    "collapsed": false,
    "deletable": true,
    "editable": true
   },
   "outputs": [],
   "source": [
    "# Set the 'Year of Release' column in your 'movies_cleaned' dataframe as index\n",
    "movies_cleaned = \n",
    "print(movies_cleaned)"
   ]
  },
  {
   "cell_type": "code",
   "execution_count": null,
   "metadata": {
    "collapsed": false,
    "deletable": true,
    "editable": true
   },
   "outputs": [],
   "source": [
    "# Sort the index ('Year of release') in movies_cleaned in ascending order\n"
   ]
  },
  {
   "cell_type": "code",
   "execution_count": null,
   "metadata": {
    "collapsed": false,
    "deletable": true,
    "editable": true
   },
   "outputs": [],
   "source": [
    "# Create a new data frame named 'Action'.\n",
    "# This dataframe should contain all the entries from the 'movies_cleaned' data frame whose Genre is 'Action'\n",
    "\n",
    "Action = \n",
    "print(Action)"
   ]
  },
  {
   "cell_type": "code",
   "execution_count": null,
   "metadata": {
    "collapsed": false,
    "deletable": true,
    "editable": true
   },
   "outputs": [],
   "source": [
    "#From the Action Dataframe, print the minimum, maximum and average Budget\n",
    "min_budget = \n",
    "print('Minimum Budget:', min_budget)\n",
    "\n",
    "max_budget = \n",
    "print('Maximum Budget:', max_budget)\n",
    "\n",
    "avg_budget = \n",
    "print('Average Budget:', avg_budget)"
   ]
  },
  {
   "cell_type": "code",
   "execution_count": null,
   "metadata": {
    "collapsed": false,
    "deletable": true,
    "editable": true
   },
   "outputs": [],
   "source": [
    "# Group your 'movies_cleaned' dataframe by Genre and obtain the average value of the Ratings (Rotten Tomatoes and Audience)\n",
    "# and also the average Budget. You should save your answer as a new dataframe named 'avg_Values'\n",
    "# Hint: this can be done with one single line of code. Take a look at the 'Pandas Overview' Jupyter notebook\n",
    "\n",
    "avg_Values = \n",
    "print(avg_Values)"
   ]
  },
  {
   "cell_type": "markdown",
   "metadata": {
    "deletable": true,
    "editable": true
   },
   "source": [
    "What is the Genre with the highest average budget?\n",
    "\n",
    "Your answer:\n",
    "\n",
    "What is the Genre with the lowest average rating?\n",
    "\n",
    "Your answer for Rotten Tomatoes:\n",
    "\n",
    "Your answer for Audience Ratings:"
   ]
  },
  {
   "cell_type": "code",
   "execution_count": null,
   "metadata": {
    "collapsed": false,
    "deletable": true,
    "editable": true
   },
   "outputs": [],
   "source": [
    "#Create a bar plot of the average Budget values per Genre\n",
    "#Hint: you can use the plot function directly on the avg_Values dataframe. \n",
    "#For instance, if I wanted to plot all the average values in the dataframe, I would use the following line of code:\n",
    "# avg_Values.plot.bar()\n",
    "# Also, don't forget to import all the necessary packages\n",
    "\n"
   ]
  },
  {
   "cell_type": "code",
   "execution_count": null,
   "metadata": {
    "collapsed": false,
    "deletable": true,
    "editable": true
   },
   "outputs": [],
   "source": [
    "# Create a scatter plot of the Budget vs. the Audience Rating. Use your movies_cleaned dataframe\n",
    "\n"
   ]
  },
  {
   "cell_type": "markdown",
   "metadata": {
    "deletable": true,
    "editable": true
   },
   "source": [
    "Looking at your scatter plot, would you say there is correlation between the Budget and the average rating?\n",
    "\n",
    "Your answer:"
   ]
  },
  {
   "cell_type": "code",
   "execution_count": null,
   "metadata": {
    "collapsed": true,
    "deletable": true,
    "editable": true
   },
   "outputs": [],
   "source": [
    "# Export your 'avg_Values' dataframe as a 'CSV' file named 'Genre.csv'\n",
    "\n"
   ]
  }
 ],
 "metadata": {
  "kernelspec": {
   "display_name": "Python 3",
   "language": "python",
   "name": "python3"
  },
  "language_info": {
   "codemirror_mode": {
    "name": "ipython",
    "version": 3
   },
   "file_extension": ".py",
   "mimetype": "text/x-python",
   "name": "python",
   "nbconvert_exporter": "python",
   "pygments_lexer": "ipython3",
   "version": "3.6.0"
  }
 },
 "nbformat": 4,
 "nbformat_minor": 2
}
