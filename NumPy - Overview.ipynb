{
 "cells": [
  {
   "cell_type": "markdown",
   "metadata": {
    "deletable": true,
    "editable": true
   },
   "source": [
    "# NumPy - Numerical Python"
   ]
  },
  {
   "cell_type": "markdown",
   "metadata": {
    "deletable": true,
    "editable": true
   },
   "source": [
    "NumPy allows us to work with multi-dimensional arrays in Python. We can efficiently store and manipulate vectors, matrices and high-dimensional datasets.\n",
    "You will notice that NumPy arrays look very similar to Python lists."
   ]
  },
  {
   "cell_type": "markdown",
   "metadata": {
    "deletable": true,
    "editable": true
   },
   "source": [
    "Remember that to start using NumPy, and other Python packages, you need to import them first."
   ]
  },
  {
   "cell_type": "code",
   "execution_count": null,
   "metadata": {
    "collapsed": true,
    "deletable": true,
    "editable": true
   },
   "outputs": [],
   "source": [
    "import numpy as np"
   ]
  },
  {
   "cell_type": "code",
   "execution_count": null,
   "metadata": {
    "collapsed": false,
    "deletable": true,
    "editable": true
   },
   "outputs": [],
   "source": [
    "array1 = np.arange(1,10) #np is how we refer to the package that we are using; in this case NumPy. The method 'arange'\n",
    "                         #creates a range of numbers within the specified limits (e.g., 1-10). When you run this cell, \n",
    "                         #you will see that the upper limit is not included.\n",
    "array1"
   ]
  },
  {
   "cell_type": "code",
   "execution_count": null,
   "metadata": {
    "collapsed": false,
    "deletable": true,
    "editable": true
   },
   "outputs": [],
   "source": [
    "array2 = np.arange(1,10,2) #We can also specify the step for the range\n",
    "array2                     #This will print every other number in the range from 1 to 10."
   ]
  },
  {
   "cell_type": "markdown",
   "metadata": {
    "deletable": true,
    "editable": true
   },
   "source": [
    "We can perform element-wise operations with the elements of a NumPy array."
   ]
  },
  {
   "cell_type": "code",
   "execution_count": null,
   "metadata": {
    "collapsed": false,
    "deletable": true,
    "editable": true
   },
   "outputs": [],
   "source": [
    "#Square each element of the array 'array1'\n",
    "square = array1 ** 2 #Note that the operator for raising a value x to a power y is '**' e.g., x**y\n",
    "square"
   ]
  },
  {
   "cell_type": "markdown",
   "metadata": {
    "deletable": true,
    "editable": true
   },
   "source": [
    "An important difference between Python lists and NumPy arrays, is that lists are unidimensional, while arrays can be multi-dimensional. "
   ]
  },
  {
   "cell_type": "code",
   "execution_count": null,
   "metadata": {
    "collapsed": false,
    "deletable": true,
    "editable": true
   },
   "outputs": [],
   "source": [
    "#Create a 2x3 array (2 rows and 3 columns). Row-elements are comma-separated and enclosed in a pair of square brackets.\n",
    "mult_array = [[1,2,3],[4,5,6]] \n",
    "mult_array"
   ]
  },
  {
   "cell_type": "code",
   "execution_count": null,
   "metadata": {
    "collapsed": false,
    "deletable": true,
    "editable": true
   },
   "outputs": [],
   "source": [
    "#Convert the array 'array1' into a 3x3 array\n",
    "mult_array1 = array1.reshape((3,3)) \n",
    "mult_array1"
   ]
  },
  {
   "cell_type": "markdown",
   "metadata": {
    "deletable": true,
    "editable": true
   },
   "source": [
    "As you can see above, multidimensional arrays look a lot like matrices. In fact, NumPy allows us to perform matrix operations in our multi-dimensional arrays. In the cells below, we will see a couple of examples of matrix operations with NumPy. For more sophisticated operations, you can refer to NumPy's documentation."
   ]
  },
  {
   "cell_type": "code",
   "execution_count": null,
   "metadata": {
    "collapsed": false,
    "deletable": true,
    "editable": true
   },
   "outputs": [],
   "source": [
    "#Obtain the transpose of a matrix\n",
    "transpose = mult_array1.T \n",
    "transpose"
   ]
  },
  {
   "cell_type": "code",
   "execution_count": null,
   "metadata": {
    "collapsed": false,
    "deletable": true,
    "editable": true
   },
   "outputs": [],
   "source": [
    "#Calculate the matrix-vector product\n",
    "np.dot(mult_array1, [1,2,3])    #We use the NumPy method np.dot to obtain the matrix-vector product between \n",
    "                                #'mult_array1' and the array [1,2,3]"
   ]
  },
  {
   "cell_type": "code",
   "execution_count": null,
   "metadata": {
    "collapsed": true,
    "deletable": true,
    "editable": true
   },
   "outputs": [],
   "source": []
  }
 ],
 "metadata": {
  "kernelspec": {
   "display_name": "Python 3",
   "language": "python",
   "name": "python3"
  },
  "language_info": {
   "codemirror_mode": {
    "name": "ipython",
    "version": 3
   },
   "file_extension": ".py",
   "mimetype": "text/x-python",
   "name": "python",
   "nbconvert_exporter": "python",
   "pygments_lexer": "ipython3",
   "version": "3.6.0"
  }
 },
 "nbformat": 4,
 "nbformat_minor": 2
}
