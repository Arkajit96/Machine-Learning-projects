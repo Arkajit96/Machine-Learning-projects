{
 "cells": [
  {
   "cell_type": "markdown",
   "metadata": {},
   "source": [
    "# Homework 3"
   ]
  },
  {
   "cell_type": "markdown",
   "metadata": {},
   "source": [
    "In this homework you will have three theory and three practical questions. Make sure you type your answer in the markdown cells below the questions. For the practical questions, you can add your code in the code cells. "
   ]
  },
  {
   "cell_type": "markdown",
   "metadata": {},
   "source": [
    "**1. What is the difference between measures of central tendency and measures of spread?**"
   ]
  },
  {
   "cell_type": "markdown",
   "metadata": {},
   "source": [
    "Your answer: Measures of central tendency represents the data into a single value that is typical or representative of all the values in the dataset, but that is only a part of how the dataset is viewed whereas measures of spread represent the data in a way that shows how scattered the values are and how much they differ from the mean value."
   ]
  },
  {
   "cell_type": "markdown",
   "metadata": {},
   "source": [
    "** 2. Is correlation the same as causation? Explain your answer**"
   ]
  },
  {
   "cell_type": "markdown",
   "metadata": {},
   "source": [
    "According to the Bureau of Statistics correlation is, “A statistical measure (expressed as a number) that describes the size and direction of a relationship between two or more variables.” \n",
    "\n",
    "While causation “Indicates that one event is the result of the occurrence of the other event; i.e. there is a causal relationship between the two events. This is also referred to as cause and effect.”\n",
    "\n",
    "Smoking is correlated with alcoholism, but doesn’t cause alcoholism.\n",
    "However, smoking issues can increase the chances of lung cancer.\n",
    "\n",
    " "
   ]
  },
  {
   "cell_type": "markdown",
   "metadata": {},
   "source": [
    "**3. Why is \"joint probability distribution\" useful**"
   ]
  },
  {
   "cell_type": "markdown",
   "metadata": {},
   "source": [
    "Your answer: Joint probability distribution is useful as it can be used to estimate the probability distribution of variables, if some other variables are given.   "
   ]
  },
  {
   "cell_type": "markdown",
   "metadata": {},
   "source": [
    "** Practical Question 1**\n",
    "\n",
    "Start by generating 10,000 random numbers following a Gaussian (normal) distribution. The mean should be 100 and the standard deviation equal to 15. Call this distribution _data_. \n",
    "After you have generated your data, verify that the _mean_ and the _standard deviation_ are correct and print them. Also, calculate the _median_ of your data and print it as well. \n",
    "**Don't forget to import the necessary Python packages!**"
   ]
  },
  {
   "cell_type": "code",
   "execution_count": 1,
   "metadata": {},
   "outputs": [
    {
     "name": "stdout",
     "output_type": "stream",
     "text": [
      "('Mean:', 99.700883110092391)\n",
      "('Stdv:', 14.876341985240412)\n",
      "('Median:', 99.819877794918142)\n"
     ]
    }
   ],
   "source": [
    "#Import Python packages that you will use\n",
    "import numpy as np\n",
    "import random \n",
    "from scipy import stats #Import only stats from the scipy package\n",
    "import matplotlib.pyplot as plt #New package Matplotlib as plt\n",
    "\n",
    "#Insert the code for your random variable here:\n",
    "distribution_data_ = np.random.normal(100,15,10000)\n",
    "# Calculate the mean\n",
    "mean = np.mean(distribution_data_)\n",
    "# Calculate the standard deviation\n",
    "stdv = np.std(distribution_data_)\n",
    "\n",
    "#Calculate the median\n",
    "median=np.median(distribution_data_)\n",
    "\n",
    "#Print the mean, standard deviation and median of your data\n",
    "print('Mean:', mean)\n",
    "\n",
    "print('Stdv:', stdv)\n",
    "\n",
    "print('Median:', median)\n",
    " "
   ]
  },
  {
   "cell_type": "markdown",
   "metadata": {},
   "source": [
    "**Practical Question 2**\n",
    "\n",
    "In this part, you should plot a histogram of your data from Practical Question 1. Make sure you format your plot by adding a title and axes labels.\n",
    "\n",
    "After you try it with the predefined settings of Python, find out how to change number of plotted bins in the histogram and create a second plot with 100 bins. **Which plot do you think looks better?**"
   ]
  },
  {
   "cell_type": "code",
   "execution_count": 2,
   "metadata": {},
   "outputs": [
    {
     "data": {
      "text/plain": [
       "<matplotlib.text.Text at 0x82b0278>"
      ]
     },
     "execution_count": 2,
     "metadata": {},
     "output_type": "execute_result"
    },
    {
     "data": {
      "image/png": "[encoded data removed]",
      "text/plain": [
       "<matplotlib.figure.Figure at 0x4a39c18>"
      ]
     },
     "metadata": {},
     "output_type": "display_data"
    }
   ],
   "source": [
    "%matplotlib inline\n",
    "plt.hist(distribution_data_)\n",
    "\n",
    "#Fomatting the histogram plot\n",
    "plt.title(\"Histogram of our distribution\")\n",
    "plt.xlabel(\"Values\")\n",
    "plt.ylabel(\"Frequency\")"
   ]
  },
  {
   "cell_type": "code",
   "execution_count": 3,
   "metadata": {},
   "outputs": [
    {
     "data": {
      "text/plain": [
       "(array([   2.,    0.,    0.,    0.,    0.,    0.,    2.,    0.,    3.,\n",
       "           1.,    3.,    2.,    5.,   10.,    9.,    9.,    7.,   11.,\n",
       "          11.,   10.,   23.,   28.,   32.,   28.,   37.,   55.,   42.,\n",
       "          58.,   70.,   86.,   86.,  100.,  118.,  125.,  158.,  164.,\n",
       "         175.,  178.,  214.,  204.,  226.,  256.,  240.,  249.,  269.,\n",
       "         320.,  286.,  286.,  306.,  284.,  302.,  307.,  301.,  341.,\n",
       "         273.,  277.,  261.,  299.,  261.,  249.,  236.,  214.,  221.,\n",
       "         214.,  177.,  136.,  134.,  143.,  117.,   99.,   93.,   78.,\n",
       "          62.,   67.,   51.,   51.,   32.,   40.,   34.,   27.,   24.,\n",
       "          18.,   20.,   12.,   13.,    7.,    4.,    5.,    3.,    1.,\n",
       "           2.,    1.,    0.,    0.,    3.,    1.,    0.,    0.,    0.,    1.]),\n",
       " array([  41.24134204,   42.39667012,   43.5519982 ,   44.70732628,\n",
       "          45.86265436,   47.01798244,   48.17331052,   49.3286386 ,\n",
       "          50.48396668,   51.63929476,   52.79462285,   53.94995093,\n",
       "          55.10527901,   56.26060709,   57.41593517,   58.57126325,\n",
       "          59.72659133,   60.88191941,   62.03724749,   63.19257558,\n",
       "          64.34790366,   65.50323174,   66.65855982,   67.8138879 ,\n",
       "          68.96921598,   70.12454406,   71.27987214,   72.43520022,\n",
       "          73.59052831,   74.74585639,   75.90118447,   77.05651255,\n",
       "          78.21184063,   79.36716871,   80.52249679,   81.67782487,\n",
       "          82.83315295,   83.98848104,   85.14380912,   86.2991372 ,\n",
       "          87.45446528,   88.60979336,   89.76512144,   90.92044952,\n",
       "          92.0757776 ,   93.23110568,   94.38643376,   95.54176185,\n",
       "          96.69708993,   97.85241801,   99.00774609,  100.16307417,\n",
       "         101.31840225,  102.47373033,  103.62905841,  104.78438649,\n",
       "         105.93971458,  107.09504266,  108.25037074,  109.40569882,\n",
       "         110.5610269 ,  111.71635498,  112.87168306,  114.02701114,\n",
       "         115.18233922,  116.33766731,  117.49299539,  118.64832347,\n",
       "         119.80365155,  120.95897963,  122.11430771,  123.26963579,\n",
       "         124.42496387,  125.58029195,  126.73562003,  127.89094812,\n",
       "         129.0462762 ,  130.20160428,  131.35693236,  132.51226044,\n",
       "         133.66758852,  134.8229166 ,  135.97824468,  137.13357276,\n",
       "         138.28890085,  139.44422893,  140.59955701,  141.75488509,\n",
       "         142.91021317,  144.06554125,  145.22086933,  146.37619741,\n",
       "         147.53152549,  148.68685358,  149.84218166,  150.99750974,\n",
       "         152.15283782,  153.3081659 ,  154.46349398,  155.61882206,\n",
       "         156.77415014]),\n",
       " <a list of 100 Patch objects>)"
      ]
     },
     "execution_count": 3,
     "metadata": {},
     "output_type": "execute_result"
    },
    {
     "data": {
      "image/png": "[encoded data removed]",
      "text/plain": [
       "<matplotlib.figure.Figure at 0x853e6a0>"
      ]
     },
     "metadata": {},
     "output_type": "display_data"
    }
   ],
   "source": [
    "#Histogram plot of \"data\". Set the number of bins equal to 100\n",
    "plt.hist(distribution_data_, bins=100) "
   ]
  },
  {
   "cell_type": "markdown",
   "metadata": {},
   "source": [
    "Which plot do you think looks better?\n",
    "Your answer: The second plot looks better as it gives better accuracy of the data in the visualization."
   ]
  },
  {
   "cell_type": "markdown",
   "metadata": {},
   "source": [
    "**Practical Question 3**\n",
    "\n",
    "Now it's time to generate a _scatter plot_. \n",
    "\n",
    "Start by generating an array of numbers between 1 and 500. You should name this array *x*.\n",
    "Generate a response variable named *y*. This variable should be equal to `y = 50 + 3*x + random number`. The random number should be normally distributed (mean = 0, standard deviation = 100 and total points = 500)."
   ]
  },
  {
   "cell_type": "code",
   "execution_count": 4,
   "metadata": {},
   "outputs": [
    {
     "data": {
      "text/plain": [
       "<matplotlib.text.Text at 0x9cda780>"
      ]
     },
     "execution_count": 4,
     "metadata": {},
     "output_type": "execute_result"
    },
    {
     "data": {
      "image/png": "[encoded data removed]",
      "text/plain": [
       "<matplotlib.figure.Figure at 0x9be87f0>"
      ]
     },
     "metadata": {},
     "output_type": "display_data"
    }
   ],
   "source": [
    "# Generate x\n",
    "x = np.arange(1,501)\n",
    "\n",
    "# Generate y\n",
    "y = 50 + 3 * x + np.random.normal(0,100,500)\n",
    "\n",
    "plt.scatter(x, y) #This is how we obtain a scatter plot.\n",
    "\n",
    "#Formatting the graph\n",
    "plt.title(\"Scatter Plot\")\n",
    "plt.xlabel(\"Explanatory Variable\")\n",
    "plt.ylabel(\"Response Variable\")"
   ]
  },
  {
   "cell_type": "code",
   "execution_count": null,
   "metadata": {
    "collapsed": true
   },
   "outputs": [],
   "source": []
  }
 ],
 "metadata": {
  "kernelspec": {
   "display_name": "Python 2",
   "language": "python",
   "name": "python2"
  },
  "language_info": {
   "codemirror_mode": {
    "name": "ipython",
    "version": 2
   },
   "file_extension": ".py",
   "mimetype": "text/x-python",
   "name": "python",
   "nbconvert_exporter": "python",
   "pygments_lexer": "ipython2",
   "version": "2.7.13"
  }
 },
 "nbformat": 4,
 "nbformat_minor": 2
}
